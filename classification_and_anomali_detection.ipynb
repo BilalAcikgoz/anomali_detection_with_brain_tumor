{
 "cells": [
  {
   "cell_type": "code",
   "execution_count": null,
   "id": "initial_id",
   "metadata": {
    "collapsed": true,
    "is_executing": true
   },
   "outputs": [],
   "source": [
    "import numpy as np\n",
    "import pandas as pd\n",
    "import matplotlib.pyplot as plt\n",
    "import os\n",
    "import cv2\n",
    "from PIL import Image\n",
    "from sklearn.model_selection import train_test_split\n",
    "import torch\n",
    "import torch.nn as nn\n",
    "import torch.optim as optim\n",
    "from torchvision import datasets, transforms\n",
    "from torch.utils.data import DataLoader\n",
    "\n",
    "from warnings import filterwarnings\n",
    "filterwarnings(\"ignore\")"
   ]
  },
  {
   "cell_type": "code",
   "outputs": [
    {
     "name": "stdout",
     "output_type": "stream",
     "text": [
      "Using NVIDIA GeForce RTX 3060 Ti for training.\n"
     ]
    }
   ],
   "source": [
    "try:\n",
    "    # if use GPU, use it\n",
    "    device = torch.device(\"cuda\" if torch.cuda.is_available() else \"cpu\")\n",
    "    print(f\"Using {torch.cuda.get_device_name()} for training.\" if torch.cuda.is_available() else \"Using CPU for training\")\n",
    "except:\n",
    "    print(f\"No GPU found. Using CPU for training.\")\n",
    "    device = torch.device(\"cpu\")"
   ],
   "metadata": {
    "collapsed": false,
    "ExecuteTime": {
     "end_time": "2024-02-29T10:32:01.100008Z",
     "start_time": "2024-02-29T10:32:01.048482Z"
    }
   },
   "id": "ed25f2fb5122a30d",
   "execution_count": 2
  },
  {
   "cell_type": "code",
   "outputs": [],
   "source": [
    "dataset_path = 'Dataset/'\n",
    "class_names = sorted(os.listdir(dataset_path))\n",
    "transform = transforms.Compose([\n",
    "    transforms.Resize((224, 224)),\n",
    "    transforms.ToTensor()\n",
    "])\n",
    "\n",
    "dataset = datasets.ImageFolder(root=dataset_path, transform=transform)\n",
    "batch_size = 32\n",
    "data_loader = DataLoader(dataset=dataset, batch_size=batch_size, shuffle=True)"
   ],
   "metadata": {
    "collapsed": false,
    "ExecuteTime": {
     "end_time": "2024-02-29T11:02:04.613709Z",
     "start_time": "2024-02-29T11:02:04.573165Z"
    }
   },
   "id": "dd48d04e2c76721d",
   "execution_count": 25
  },
  {
   "cell_type": "code",
   "outputs": [
    {
     "data": {
      "text/plain": "['glioma_tumor', 'meningioma_tumor', 'no_tumor', 'pituitary_tumor']"
     },
     "execution_count": 26,
     "metadata": {},
     "output_type": "execute_result"
    }
   ],
   "source": [
    "class_names"
   ],
   "metadata": {
    "collapsed": false,
    "ExecuteTime": {
     "end_time": "2024-02-29T11:02:08.561386Z",
     "start_time": "2024-02-29T11:02:08.555902Z"
    }
   },
   "id": "42bf086e19add31c",
   "execution_count": 26
  },
  {
   "cell_type": "code",
   "outputs": [],
   "source": [
    "# Processing images and labels in each folder\n",
    "for batch in data_loader:\n",
    "    images, labels = batch\n",
    "    images = images.to(device)\n",
    "    labels = labels.to(device)"
   ],
   "metadata": {
    "collapsed": false,
    "ExecuteTime": {
     "end_time": "2024-02-29T11:02:56.529014Z",
     "start_time": "2024-02-29T11:02:32.587732Z"
    }
   },
   "id": "bed5f5c376fe648e",
   "execution_count": 27
  },
  {
   "cell_type": "code",
   "outputs": [],
   "source": [
    "total_images, total_labels = 0, 0\n",
    "for batch in data_loader:\n",
    "    images, labels = batch\n",
    "    total_images += images.size(0)\n",
    "    total_labels += len(labels)"
   ],
   "metadata": {
    "collapsed": false,
    "ExecuteTime": {
     "end_time": "2024-02-29T11:07:22.285787Z",
     "start_time": "2024-02-29T11:06:56.778313Z"
    }
   },
   "id": "d29ccdf10f095f92",
   "execution_count": 28
  },
  {
   "cell_type": "code",
   "outputs": [
    {
     "name": "stdout",
     "output_type": "stream",
     "text": [
      "Total images: 10287 \n",
      "Total labels: 10287\n"
     ]
    }
   ],
   "source": [
    "print(f\"Total images: {total_images}\", f\"\\nTotal labels: {total_labels}\")    "
   ],
   "metadata": {
    "collapsed": false,
    "ExecuteTime": {
     "end_time": "2024-02-29T11:07:22.289264Z",
     "start_time": "2024-02-29T11:07:22.286893Z"
    }
   },
   "id": "6a49f13733ac4a3d",
   "execution_count": 29
  },
  {
   "cell_type": "code",
   "outputs": [
    {
     "name": "stdout",
     "output_type": "stream",
     "text": [
      "torch.Size([10, 3, 224, 224])\n",
      "torch.Size([2, 3, 224, 224])\n",
      "torch.Size([3, 3, 224, 224])\n",
      "torch.Size([10])\n",
      "torch.Size([2])\n",
      "torch.Size([3])\n"
     ]
    }
   ],
   "source": [
    "train_images, test_images, train_labels, test_labels = train_test_split(images, labels, test_size=0.15, random_state=42)\n",
    "train_images, val_images, train_labels, val_labels = train_test_split(train_images, train_labels, test_size=0.15, random_state=42)\n",
    "\n",
    "dataset_list = [train_images, val_images, test_images, train_labels, val_labels, test_labels]\n",
    "\n",
    "for i in dataset_list:\n",
    "    print(i.shape)"
   ],
   "metadata": {
    "collapsed": false,
    "ExecuteTime": {
     "end_time": "2024-02-29T11:07:22.301810Z",
     "start_time": "2024-02-29T11:07:22.289889Z"
    }
   },
   "id": "15a414eb93c806b2",
   "execution_count": 30
  },
  {
   "cell_type": "code",
   "outputs": [],
   "source": [],
   "metadata": {
    "collapsed": false
   },
   "id": "67e6323d5aff5015"
  }
 ],
 "metadata": {
  "kernelspec": {
   "display_name": "Python 3",
   "language": "python",
   "name": "python3"
  },
  "language_info": {
   "codemirror_mode": {
    "name": "ipython",
    "version": 2
   },
   "file_extension": ".py",
   "mimetype": "text/x-python",
   "name": "python",
   "nbconvert_exporter": "python",
   "pygments_lexer": "ipython2",
   "version": "2.7.6"
  }
 },
 "nbformat": 4,
 "nbformat_minor": 5
}
